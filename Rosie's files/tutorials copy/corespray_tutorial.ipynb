{
 "cells": [
  {
   "cell_type": "markdown",
   "metadata": {},
   "source": [
    "## How to simulate extra-tidal stars and binaries of globular clusters with Corespray."
   ]
  },
  {
   "cell_type": "markdown",
   "metadata": {},
   "source": [
    "#### STEP 0: Import the necessary Python packages. \n",
    "\n",
    "$\\texttt{corespray}$ can be downloaded at: https://github.com/webbjj/corespray. \n",
    "$\\texttt{galpy}$ (Bovy 2015) can be downloaded at: https://docs.galpy.org/en/v1.8.0/. \n",
    "$\\texttt{clustertools}$ can be downloaded at: https://clustertools.readthedocs.io/en/latest/."
   ]
  },
  {
   "cell_type": "code",
   "execution_count": 1,
   "metadata": {},
   "outputs": [
    {
     "name": "stdout",
     "output_type": "stream",
     "text": [
      "/Users/webbjere/Codes/clustertools/clustertools/analysis/profiles.py:37: FutureWarning: all profiles are setup such that the returned radial bins and profile values are in linear space and not normalized by the effective radius. Previously select profiles had unique returns.\n",
      "  warnings.warn('all profiles are setup such that the returned radial bins and profile values are in linear space and not normalized by the effective radius. Previously select profiles had unique returns.',FutureWarning)\n",
      "\n"
     ]
    }
   ],
   "source": [
    "# Import corespray:\n",
    "from corespray import corespraydf\n",
    "\n",
    "# Import galpy packages:\n",
    "from galpy.potential import MWPotential2014\n",
    "from galpy.potential import KingPotential\n",
    "from galpy.util import conversion\n",
    "from galpy.orbit import Orbit\n",
    "\n",
    "# Import clustertools:\n",
    "import clustertools\n",
    "\n",
    "# Import other necessary Python packages:\n",
    "import numpy as np\n",
    "import matplotlib.pyplot as plt\n",
    "from matplotlib import rc\n",
    "plt.rcParams['mathtext.fontset'] = 'stix'\n",
    "plt.rcParams['font.family'] = 'STIXGeneral'\n",
    "from matplotlib import animation"
   ]
  },
  {
   "cell_type": "markdown",
   "metadata": {},
   "source": [
    "#### STEP 1: Load in the specific parameters for your GC of interest:\n",
    "Spatial, kinematic and orbital parameters for most Galactic GCs can be found in the Baumgardt & Hilker (2018) catalogue. This catalogue is accessible at: https://people.smp.uq.edu.au/HolgerBaumgardt/globular/. For this example, we simulate extra-tidal stars and binaries of M3. "
   ]
  },
  {
   "cell_type": "code",
   "execution_count": 2,
   "metadata": {},
   "outputs": [],
   "source": [
    "gcname ='M3' # GC name\n",
    "mu0 = 0.  # Average 1D velocity in the core [km/s]\n",
    "sig0 = 7.6  # Central 1D velocity dispersion [km/s]\n",
    "vesc0 = 30.0  # Central escape velocity [km/s]\n",
    "logrho0 = 3.67  # Log of central density [Msol / pc^3]\n",
    "rho0 = 10.0**3.67  # Core density [Msol / pc^3]\n",
    "mgc = 4.06e5  # Mass [solar masses]\n",
    "rgc = 127.28  # Tidal radius of GC, assuming King potential [pc]\n",
    "rcore = 1.23  # Core radius of GC [pc]\n",
    "#W0 = clustertools.c_to_w0(np.log(rgc/rcore))\n",
    "W0 = 8.61469762517307\n",
    "\n",
    "mmin = 0.1 # Minimum stellar mass in core [Msol]\n",
    "mmax = 1.4 # Maximum stellar mass in the core [Msol]\n",
    "alpha = -1.35 # Stellar mass function in the core slope (Salpeter 1955)\n",
    "\n",
    "potential = MWPotential2014  # Galactic potential model\n",
    "ro = 8. #radius of the solar circle (needed for galpy)\n",
    "vo = 220. #circular orbit velocity at the solar circle (needed for galpy)"
   ]
  },
  {
   "cell_type": "markdown",
   "metadata": {},
   "source": [
    "#### STEP 2: Initialize the cluster's orbit in galpy:"
   ]
  },
  {
   "cell_type": "code",
   "execution_count": 3,
   "metadata": {},
   "outputs": [],
   "source": [
    "os_init = Orbit.from_name(gcname, ro=ro, vo=vo, solarmotion=[-11.1, 24.0, 7.25])"
   ]
  },
  {
   "cell_type": "markdown",
   "metadata": {},
   "source": [
    "#### STEP 3: Integrate the orbit:"
   ]
  },
  {
   "cell_type": "code",
   "execution_count": 4,
   "metadata": {},
   "outputs": [],
   "source": [
    "ts = np.linspace(0,10,1000)  # integration times\n",
    "os_init.integrate(ts, potential)  # can choose which Galactic potential to use (e.g. MWPotenial2014)"
   ]
  },
  {
   "cell_type": "markdown",
   "metadata": {},
   "source": [
    "#### STEP 5: Determine the maximum orbital period of the GC."
   ]
  },
  {
   "cell_type": "code",
   "execution_count": 5,
   "metadata": {},
   "outputs": [
    {
     "name": "stdout",
     "output_type": "stream",
     "text": [
      "The maximum orbital period of M3 is 0.3863629220270603 Gyr.\n"
     ]
    }
   ],
   "source": [
    "# Find the maximum orbital period of the GC:\n",
    "p_orb_rad = os_init.Tr()\n",
    "p_orb_phi = os_init.Tp()\n",
    "p_orb_max = max(np.array([p_orb_rad, p_orb_phi]))\n",
    "print(\"The maximum orbital period of M3 is {} Gyr.\".format(p_orb_max))"
   ]
  },
  {
   "cell_type": "markdown",
   "metadata": {},
   "source": [
    "### STEP 6: Initialize a corespray instance using your previously defined parameters and integrate orbit for 1 orbital period (duration of orbit integration is of course a free parameter). Then sample core ejections over 1 orbital period"
   ]
  },
  {
   "cell_type": "code",
   "execution_count": 6,
   "metadata": {},
   "outputs": [],
   "source": [
    "# Initialize corespray\n",
    "cspray = corespraydf(gcname, potential, mu0, sig0, vesc0, rho0, mgc, rgc, W0, mmin, mmax, alpha)\n",
    "#Sample for one orbital period\n",
    "p_orb = p_orb_max * 1000  # Myr \n",
    "os,ob = cspray.sample(p_orb, nstar=10, binaries=True)"
   ]
  },
  {
   "cell_type": "markdown",
   "metadata": {},
   "source": [
    "#### STEP 6: Extract parameters for the SINGLE escapers:"
   ]
  },
  {
   "cell_type": "code",
   "execution_count": 7,
   "metadata": {},
   "outputs": [],
   "source": [
    "ra = os.ra()  # [deg]\n",
    "dec = os.dec()  # [deg]\n",
    "dist = os.dist()  # [kpc]\n",
    "pmra = os.pmra()  # [mas/yr]\n",
    "pmdec = os.pmdec() # [mas/yr]\n",
    "vr = os.vlos()  # [km/s]\n",
    "r = os.R()  # [kpc]\n",
    "z = os.z()  # [kpc]\n",
    "t_esc = cspray.tesc  # [Myr] in the past\n",
    "v_esc = cspray.vesc  # [km/s]\n",
    "mstar = cspray.mstar # [Msol]"
   ]
  },
  {
   "cell_type": "markdown",
   "metadata": {},
   "source": [
    "#### STEP 6: Extract parameters for all BINARY stars:"
   ]
  },
  {
   "cell_type": "code",
   "execution_count": 8,
   "metadata": {},
   "outputs": [
    {
     "name": "stdout",
     "output_type": "stream",
     "text": [
      "0/10 binaries escaped M3.\n"
     ]
    }
   ],
   "source": [
    "ra_b = ob.ra()  # [deg]\n",
    "dec_b = ob.dec()  # [deg]\n",
    "dist_b = ob.dist()  # [kpc]\n",
    "pmra_b = ob.pmra()  # [mas/yr]\n",
    "pmdec_b = ob.pmdec()  # [mas/yr]\n",
    "vr_b = ob.vlos()  # [km/s]\n",
    "r_b = ob.R()  # [kpc]\n",
    "z_b = ob.z()  # [kpc]\n",
    "# Would tesc of binary be same as escaper star?\n",
    "v_esc_b = cspray.vescb  # [km/s]\n",
    "m_b1 = cspray.mb1  # [Msol]\n",
    "m_b2 = cspray.mb2  # [Msol]\n",
    "m_b_tot = m_b1 + m_b2  # [Msol]\n",
    "\n",
    "# bindx is a boolean that gives indxs of binaries that escaped the cluster: \n",
    "bin_esc = cspray.bindx\n",
    "print(\"{}/{} binaries escaped {}.\".format(len(ra_b[bin_esc]), len(ra_b), gcname))"
   ]
  },
  {
   "cell_type": "markdown",
   "metadata": {},
   "source": [
    "#### Explore some parameter spaces of your simulated extra-tidal stars and binaries!"
   ]
  },
  {
   "cell_type": "code",
   "execution_count": 9,
   "metadata": {},
   "outputs": [
    {
     "data": {
      "image/png": "[encoded data removed]",
      "text/plain": [
       "<Figure size 720x720 with 4 Axes>"
      ]
     },
     "metadata": {
      "needs_background": "light"
     },
     "output_type": "display_data"
    }
   ],
   "source": [
    "fig, ax = plt.subplots(nrows=2, ncols=2, figsize=(10, 10))\n",
    "\n",
    "# RA vs Dec positions:\n",
    "ax[0, 0].scatter(ra, dec, marker='o', s=50, edgecolor='black', c='#8d99ae', alpha=0.9) \n",
    "ax[0, 0].scatter(ra_b[bin_esc], dec_b[bin_esc], marker='o', s=50, edgecolor='black', c='#ef233c', alpha=0.9) \n",
    "ax[0, 0].scatter(cspray.o.ra(), cspray.o.dec(), marker='*', s=250, edgecolor='black', c='#2b2d42')\n",
    "ax[0, 0].set_xlabel(r\"$\\alpha$ ($^\\circ $)\", fontsize=18)\n",
    "ax[0, 0].set_ylabel(r\"$\\delta$ ($^\\circ $)\", fontsize=18)\n",
    "ax[0, 0].tick_params(axis='both', which='major', labelsize=16)\n",
    "ax[0, 0].tick_params(axis='both', which='minor', labelsize=16)\n",
    "\n",
    "# R vs z positions:\n",
    "ax[0, 1].scatter(r, z, marker='o', s=50, edgecolor='black', c='#8d99ae', alpha=0.9, label='Extra-tidal stars') \n",
    "ax[0, 1].scatter(r_b[bin_esc], z_b[bin_esc], marker='o', s=50, edgecolor='black', c='#ef233c', alpha=0.9, label='Extra-tidal binaries') \n",
    "ax[0, 1].scatter(cspray.o.r(), cspray.o.z(), marker='*', s=250, edgecolor='black', c='#2b2d42', label='M3 Centre')\n",
    "ax[0, 1].set_xlabel(r\"$r$ (kpc)\", fontsize=18)\n",
    "ax[0, 1].set_ylabel(r\"$z$ (kpc)\", fontsize=18)\n",
    "ax[0, 1].tick_params(axis='both', which='major', labelsize=16)\n",
    "ax[0, 1].tick_params(axis='both', which='minor', labelsize=16)\n",
    "ax[0, 1].legend(fontsize=16)\n",
    "\n",
    "# Proper motion:\n",
    "ax[1, 0].scatter(pmra, pmdec, marker='o', s=50, edgecolor='black', c='#8d99ae', alpha=0.9) \n",
    "ax[1, 0].scatter(pmra_b[bin_esc], pmdec_b[bin_esc], marker='o', s=50, edgecolor='black', c='#ef233c', alpha=0.9) \n",
    "ax[1, 0].scatter(cspray.o.pmra(), cspray.o.pmdec(), marker='*', s=250, edgecolor='black', c='#2b2d42')\n",
    "ax[1, 0].set_xlabel(r\"$\\mu_{\\alpha}$ (mas/yr)\", fontsize=18)\n",
    "ax[1, 0].set_ylabel(r\"$\\mu_{\\delta}$ (mas/yr)\", fontsize=18)\n",
    "ax[1, 0].tick_params(axis='both', which='major', labelsize=16)\n",
    "ax[1, 0].tick_params(axis='both', which='minor', labelsize=16)\n",
    "\n",
    "# Escape velocities:\n",
    "ax[1, 1].hist(v_esc, bins=7, color='#8d99ae', density=True)\n",
    "ax[1, 1].hist(v_esc_b, bins=5, color='#ef233c', density=True)\n",
    "ax[1, 1].axvline(vesc0, ls='--', c='#2b2d42')\n",
    "ax[1, 1].tick_params(axis='both', which='major', labelsize=16)\n",
    "ax[1, 1].tick_params(axis='both', which='minor', labelsize=16)\n",
    "ax[1, 1].set_xlabel(r\"$v_{esc}$ (km/s)\", fontsize=18)\n",
    "ax[1, 1].set_ylabel(\"Normalized Counts\", fontsize=18)\n",
    "\n",
    "fig.tight_layout()\n",
    "plt.show()"
   ]
  }
 ],
 "metadata": {
  "kernelspec": {
   "display_name": "Python 3",
   "language": "python",
   "name": "python3"
  },
  "language_info": {
   "codemirror_mode": {
    "name": "ipython",
    "version": 3
   },
   "file_extension": ".py",
   "mimetype": "text/x-python",
   "name": "python",
   "nbconvert_exporter": "python",
   "pygments_lexer": "ipython3",
   "version": "3.9.1"
  }
 },
 "nbformat": 4,
 "nbformat_minor": 4
}
