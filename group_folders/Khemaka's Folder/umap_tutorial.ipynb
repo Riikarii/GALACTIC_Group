{
 "cells": [
  {
   "cell_type": "markdown",
   "metadata": {},
   "source": [
    "## How to use the UMAP algorithm on APOGEE globular cluster data. \n",
    "##### Steffani Grondin (September 23, 2022)"
   ]
  },
  {
   "cell_type": "markdown",
   "metadata": {},
   "source": [
    "#### STEP 0: Import the necessary packages/algorithms."
   ]
  },
  {
   "cell_type": "code",
   "execution_count": 24,
   "metadata": {},
   "outputs": [],
   "source": [
    "# General analysis/plotting packages:\n",
    "import matplotlib.pyplot as plt\n",
    "import numpy as np\n",
    "import math\n",
    "import pandas as pd\n",
    "import matplotlib.pyplot as plt\n",
    "from matplotlib import rc\n",
    "plt.rcParams['mathtext.fontset'] = 'stix'\n",
    "plt.rcParams['font.family'] = 'STIXGeneral'\n",
    "from collections import Counter\n",
    "\n",
    "# Specific t-SNE/visualization packages:\n",
    "from shapely.geometry import Point, Polygon\n",
    "\n",
    "# Import UMAP\n",
    "import umap\n",
    "\n",
    "# Try using SKLEARN's StandardScaler to standardize the data\n",
    "from sklearn.preprocessing import StandardScaler\n",
    "\n"
   ]
  },
  {
   "cell_type": "markdown",
   "metadata": {},
   "source": [
    "#### STEP 1: Load in the M3 datafile. \n",
    "\n",
    "This example uses APOGEE DR17 data (https://www.sdss.org/dr17/) with astroNN chemical abundances (https://astronn.readthedocs.io/en/latest/) and includes all stars that are within a 10x10 degree field of view around M3's centre."
   ]
  },
  {
   "cell_type": "code",
   "execution_count": 25,
   "metadata": {},
   "outputs": [
    {
     "name": "stdout",
     "output_type": "stream",
     "text": [
      "There are 5289 stars in our initial sample\n"
     ]
    }
   ],
   "source": [
    "M3 = pd.read_csv('../data/M3data_10x10.csv', delimiter=',')\n",
    "\n",
    "# Spatial:\n",
    "ra = M3[\"ra\"]   #APOGEE\n",
    "dec = M3[\"dec\"]   #APOGEE\n",
    "\n",
    "# Identification:\n",
    "apogee_ID = M3[\"apogee_ID\"]   #APOGEE\n",
    "gaia_ID = M3[\"gaia_ID\"]  # Gaia\n",
    "\n",
    "# Kinematic:\n",
    "parallax = M3[\"parallax\"]  # Gaia\n",
    "pmra = M3[\"pmra\"]  # Gaia\n",
    "pmra_err = M3[\"pmra_err\"]  # Gaia\n",
    "pmdec = M3[\"pmdec\"]  # Gaia\n",
    "pmdec_err = M3[\"pmdec_err\"]  # Gaia\n",
    "RV = M3[\"RV\"]   #APOGEE\n",
    "RV_err = M3[\"RV_err\"]   #APOGEE\n",
    "dist = M3[\"dist\"]   #APOGEE\n",
    "dist_err = M3[\"dist_err\"]   #APOGEE\n",
    "jr = M3[\"jr\"]   #APOGEE\n",
    "jr_err = M3[\"jr_err\"]   #APOGEE\n",
    "jz = M3[\"jz\"]   #APOGEE\n",
    "jz_err = M3[\"jz_err\"]   #APOGEE\n",
    "jphi = M3[\"jphi\"]   #APOGEE\n",
    "jphi_err = M3[\"jphi_err\"]    #APOGEE\n",
    "\n",
    "# Spectral (useful for filtering):\n",
    "TEFF_ERR = M3[\"TEFF_err\"]   #APOGEE\n",
    "TEFF = M3[\"TEFF\"]   #APOGEE\n",
    "LOGG_ERR = M3[\"LOGG_err\"]   #APOGEE\n",
    "LOGG = M3[\"LOGG\"]   #APOGEE\n",
    "SNR = M3[\"SNR\"]   #APOGEE\n",
    "\n",
    "# Chemical abundances from astroNN:\n",
    "FE_H = M3['FEH'] \n",
    "C_FE = M3['CFE']\n",
    "CI_FE = M3['CIFE']\n",
    "N_FE = M3['NFE']\n",
    "O_FE = M3['OFE']\n",
    "MG_FE = M3['MGFE']\n",
    "AL_FE = M3['ALFE']\n",
    "SI_FE = M3['SIFE']\n",
    "P_FE = M3['PFE']\n",
    "S_FE = M3['SFE']\n",
    "K_FE = M3['KFE']\n",
    "CA_FE = M3['CAFE']\n",
    "TI_FE = M3['TIFE']\n",
    "TIII_FE = M3['TIIIFE']\n",
    "V_FE = M3['VFE']\n",
    "CR_FE = M3['CRFE']\n",
    "MN_FE = M3['MNFE']\n",
    "CO_FE = M3['COFE']\n",
    "NI_FE = M3['NIFE']\n",
    "\n",
    "# Chemical abundance errors from astroNN:\n",
    "FE_H_err = M3[\"FEH_err\"] \n",
    "C_FE_err = M3['CFE_err']\n",
    "CI_FE_err = M3['CIFE_err']\n",
    "N_FE_err = M3['NFE_err']\n",
    "O_FE_err = M3['OFE_err']\n",
    "MG_FE_err = M3['MGFE_err']\n",
    "AL_FE_err = M3['ALFE_err']\n",
    "SI_FE_err = M3['SIFE_err']\n",
    "P_FE_err = M3['PFE_err']\n",
    "S_FE_err = M3['SFE_err']\n",
    "K_FE_err = M3['KFE_err']\n",
    "CA_FE_err = M3['CAFE_err']\n",
    "TI_FE_err = M3['TIFE_err']\n",
    "TIII_FE_err = M3['TIIIFE_err']\n",
    "V_FE_err = M3['VFE_err']\n",
    "CR_FE_err = M3['CRFE_err']\n",
    "MN_FE_err = M3['MNFE_err']\n",
    "CO_FE_err = M3['COFE_err']\n",
    "NI_FE_err = M3['NIFE_err']\n",
    "\n",
    "# Number of stars in the initial sample of APOGEE DR16: \n",
    "print(\"There are {} stars in our initial sample\".format(len(ra)))\n",
    "\n",
    "cols = [ra, dec, apogee_ID, gaia_ID, parallax, pmra, pmra_err, pmdec, pmdec_err, RV, RV_err, dist, dist_err,\n",
    "        jr, jr_err, jphi, jphi_err, jz, jz_err, TEFF, TEFF_ERR, LOGG, LOGG_ERR, SNR, FE_H, FE_H_err, C_FE, \n",
    "        C_FE_err, CI_FE, CI_FE_err, N_FE, N_FE_err, O_FE, O_FE_err, MG_FE, MG_FE_err, AL_FE, AL_FE_err, SI_FE,\n",
    "        SI_FE_err, P_FE, P_FE_err, S_FE, S_FE_err, K_FE, K_FE_err, CA_FE, CA_FE_err, TI_FE, TI_FE_err, TIII_FE,\n",
    "        TIII_FE_err, V_FE, V_FE_err, CR_FE, CR_FE_err, MN_FE, MN_FE_err, CO_FE, CO_FE_err, NI_FE, NI_FE_err]"
   ]
  },
  {
   "cell_type": "markdown",
   "metadata": {},
   "source": [
    "#### STEP 2: Filter the data. \n",
    "\n",
    "First, we remove all stars without proper motions and chemical abundances for all 19 elements. Next, for stars with multiple spectra, we select the one with the highest SNR to represent the source. Finally, we remove all stars with low signal-to-noise (SNR) ratios. "
   ]
  },
  {
   "cell_type": "code",
   "execution_count": 151,
   "metadata": {},
   "outputs": [
    {
     "name": "stdout",
     "output_type": "stream",
     "text": [
      "There are 5240 stars in our sample after the proper motion filtering.\n",
      "There are 5053 stars in our sample after the abundance filtering.\n",
      "There are 3269 stars in our sample after removing sources with duplicate spectra.\n",
      "There are 3184 stars in our sample after removing sources with low SNR.\n"
     ]
    }
   ],
   "source": [
    "### Filter 1: Remove stars that do not have proper motion values. ###\n",
    "pm_filter = np.invert(np.isnan(np.array(pmra)))\n",
    "print(\"There are {} stars in our sample after the proper motion filtering.\".format(np.sum(pm_filter)))\n",
    "\n",
    "### Filter 2: Remove stars that do not have data for all 19 abundances. ###\n",
    "abundance_filter = np.ones(len(pm_filter),dtype=bool)\n",
    "for i in range(0,19):\n",
    "    abundance_filter*=np.array(cols[int(24+2*i)]) > -9999\n",
    "print(\"There are {} stars in our sample after the abundance filtering.\".format(np.sum(pm_filter*abundance_filter)))\n",
    "\n",
    "### Filter 3: Remove all duplicate spectra (i.e. select spectra with highest SNR for multiple measurements). ###\n",
    " \n",
    "unique_val = np.ones(len(pm_filter),dtype=bool)\n",
    "ras=np.array(cols[0])\n",
    "snrs=np.array(cols[23])\n",
    "\n",
    "\n",
    "for i in range(0,len(ras)):\n",
    "    indices=(ras==ras[i])\n",
    "    \n",
    "    if np.sum(indices)>1:\n",
    "        snr_vals=snrs[indices]\n",
    "        max_snr=np.amax(snr_vals)\n",
    "        unique_val[indices*(snrs<max_snr)]=False\n",
    "        \n",
    "        \n",
    "print(\"There are {} stars in our sample after removing sources with duplicate spectra.\".format(np.sum(pm_filter*abundance_filter*unique_val)))\n",
    "\n",
    "\n",
    "### Filter 4: Remove all stars with low SNR. ###\n",
    "SNR_filter = np.array(cols[23]) > 50\n",
    "\n",
    "\n",
    "filters=pm_filter*abundance_filter*unique_val*SNR_filter\n",
    "\n",
    "print(\"There are {} stars in our sample after removing sources with low SNR.\".format(np.sum(pm_filter*abundance_filter*unique_val*SNR_filter)))\n",
    "\n",
    "\n",
    "data_snrfilter = []\n",
    "for c in cols:\n",
    "    a = np.array(c)[filters]\n",
    "    data_snrfilter.append(a)"
   ]
  },
  {
   "cell_type": "markdown",
   "metadata": {},
   "source": [
    "#### ***CHECK-IN: Now that your data has been reduced, do some exploratory data analysis to see what the sample looks like!*\n",
    "\n",
    "What parameters are in this file? What parameters might be useful to connect extra-tidal stars with a suspected birth cluster?"
   ]
  },
  {
   "cell_type": "markdown",
   "metadata": {},
   "source": [
    "#### STEP 3: Define parameters for your GC of interest. \n",
    "\n",
    "These parameters are taken from the Baumgardt & Hilker (2018) catalogue: https://people.smp.uq.edu.au/HolgerBaumgardt/globular/."
   ]
  },
  {
   "cell_type": "code",
   "execution_count": 153,
   "metadata": {},
   "outputs": [],
   "source": [
    "ra_M3 = 205.548  # [deg]\n",
    "dec_M3 = 28.3772  # [deg]\n",
    "dist_M3 = 10180  # [pc]\n",
    "rt_M3 = 159.0339  # [pc] -- tidal radius @ apogalacticon\n",
    "rhm_M3 = 6.34  # [pc]\n",
    "rhm_M3_deg = math.degrees(math.atan(rhm_M3 / dist_M3))  # deg\n",
    "pmra_M3 = -0.152  # [mas/yr]\n",
    "pmdec_M3 = -2.670  # [mas/yr]"
   ]
  },
  {
   "cell_type": "markdown",
   "metadata": {},
   "source": [
    "#### STEP 4: Define a control group of cluster members.\n",
    "\n",
    "We must define a control group of likely cluster members of M3 so we can see where these stars end up in the t-SNE projection. "
   ]
  },
  {
   "cell_type": "code",
   "execution_count": 154,
   "metadata": {},
   "outputs": [
    {
     "name": "stdout",
     "output_type": "stream",
     "text": [
      "There are 131 stars in our M3 control group.\n"
     ]
    }
   ],
   "source": [
    "# Select all the stars within some radius of the cluster:\n",
    "def in_circle(center_x, center_y, radius, x, y):\n",
    "    square_dist = (center_x - x) ** 2 + (center_y - y) ** 2\n",
    "    return square_dist <= (radius) ** 2\n",
    "\n",
    "ra_filtered = data_snrfilter[0]\n",
    "dec_filtered = data_snrfilter[1]\n",
    "\n",
    "# Select stars within 8 * r,hm (useful for large enough sample of probable cluster members):\n",
    "in_halfmass = in_circle(ra_M3, dec_M3, 8*rhm_M3_deg, ra_filtered, dec_filtered)\n",
    "indices_control = np.where(in_halfmass==True)\n",
    "\n",
    "controlgroup = []\n",
    "for i in data_snrfilter:\n",
    "    b = np.array(i)[indices_control]\n",
    "    controlgroup.append(b)\n",
    "\n",
    "# Example control group parameters: \n",
    "ra_control = controlgroup[0]\n",
    "dec_control = controlgroup[1]\n",
    "\n",
    "print(\"There are {} stars in our M3 control group.\".format(len(ra_control)))"
   ]
  },
  {
   "cell_type": "markdown",
   "metadata": {},
   "source": [
    "#### ***CHECK-IN: Add this control group to your above exploratory plots.* \n",
    "\n",
    "What do you notice about these stars? What changes if you adjust the control group radius (i.e. what if you go larger or smaller than 8*r,hm)?\n"
   ]
  },
  {
   "cell_type": "markdown",
   "metadata": {},
   "source": [
    "#### STEP 5: Run UMAP on the control group and full filtered sample of APOGEE DR17 stars.\n",
    "\n",
    "First, we standardize the data to ensure that no elements dominate or skew the UMAP run. We want to include 19 chemical abundances and radial velocities in our run.  "
   ]
  },
  {
   "cell_type": "code",
   "execution_count": 155,
   "metadata": {},
   "outputs": [],
   "source": [
    "FE_H_filtered, C_FE_filtered, CI_FE_filtered = data_snrfilter[24], data_snrfilter[26], data_snrfilter[28]\n",
    "N_FE_filtered, O_FE_filtered, MG_FE_filtered = data_snrfilter[30], data_snrfilter[32], data_snrfilter[34]\n",
    "AL_FE_filtered, SI_FE_filtered, P_FE_filtered = data_snrfilter[36], data_snrfilter[38], data_snrfilter[40]\n",
    "S_FE_filtered, K_FE_filtered, CA_FE_filtered = data_snrfilter[42], data_snrfilter[44], data_snrfilter[46]\n",
    "TI_FE_filtered, TIII_FE_filtered, V_FE_filtered = data_snrfilter[48], data_snrfilter[50], data_snrfilter[52]\n",
    "CR_FE_filtered, MN_FE_filtered, CO_FE_filtered, NI_FE_filtered = data_snrfilter[54], data_snrfilter[56], data_snrfilter[58], data_snrfilter[60]\n",
    "RV_filtered  = data_snrfilter[9]\n",
    "\n",
    "preumap_array = np.array([FE_H_filtered, C_FE_filtered, CI_FE_filtered, N_FE_filtered, O_FE_filtered, MG_FE_filtered,\n",
    "                      AL_FE_filtered, SI_FE_filtered, P_FE_filtered, S_FE_filtered, K_FE_filtered, CA_FE_filtered, \n",
    "                      TI_FE_filtered, TIII_FE_filtered, V_FE_filtered, CR_FE_filtered, MN_FE_filtered, CO_FE_filtered,\n",
    "                       NI_FE_filtered, RV_filtered])\n",
    "\n",
    "standardized_array = StandardScaler().fit_transform(preumap_array)\n"
   ]
  },
  {
   "cell_type": "markdown",
   "metadata": {},
   "source": [
    "Next, we apply the UMAP algorithm to reduce the dimensionality of the data from 20-D to 2-D."
   ]
  },
  {
   "cell_type": "code",
   "execution_count": 156,
   "metadata": {},
   "outputs": [],
   "source": [
    "reducer = umap.UMAP()\n",
    "embedding = reducer.fit_transform(standardized_array)\n"
   ]
  },
  {
   "cell_type": "code",
   "execution_count": 157,
   "metadata": {},
   "outputs": [],
   "source": [
    "# Transpose the standardized + filtered array:\n",
    "standardized_array_transpose = np.transpose(standardized_array)\n",
    "\n",
    "# Run t-SNE on the transposed array:\n",
    "reducer = umap.UMAP()\n",
    "embedding = reducer.fit_transform(standardized_array_transpose)\n",
    "\n",
    "# Get t-SNE outputs for complete filtered dataset:\n",
    "umap_dimX = embedding[:, 0]\n",
    "umap_dimY = embedding[:, 1]\n",
    "\n",
    "# Get t-SNE outputs for control group:\n",
    "umap_dimX_control = umap_dimX[indices_control]\n",
    "umap_dimY_control = umap_dimY[indices_control]"
   ]
  },
  {
   "cell_type": "code",
   "execution_count": 158,
   "metadata": {},
   "outputs": [
    {
     "data": {
      "text/plain": [
       "array([1584, 1594, 1597, 1611, 1615, 1618, 1624, 1628, 1631, 1634, 1637,\n",
       "       1641, 1645, 1646, 1647, 1648, 1649, 1652, 1653, 1662, 1664, 1666,\n",
       "       1671, 1672, 1674, 1675, 1676, 1677, 1680, 1686, 1687, 1688, 1694,\n",
       "       1695, 1696, 1697, 1698, 1699, 1702, 1703, 1707, 1708, 1712, 1713,\n",
       "       1716, 1719, 1722, 1723, 1724, 1726, 1731, 1732, 1735, 1739, 1741,\n",
       "       1742, 1743, 1746, 1748, 1750, 1752, 1754, 1755, 1756, 1758, 1760,\n",
       "       1761, 1762, 1764, 1769, 1770, 1772, 1773, 1775, 1776, 1779, 1783,\n",
       "       1786, 1792, 1795, 1797, 1799, 1801, 1802, 1803, 1808, 1811, 1815,\n",
       "       1817, 1822, 1827, 1828, 1830, 1832, 1833, 1836, 1837, 1841, 1843,\n",
       "       1845, 1846, 1848, 1852, 1855, 1856, 1858, 1861, 1863, 1870, 1872,\n",
       "       1874, 1879, 1881, 1882, 1888, 1889, 1892, 1897, 1906, 1908, 1910,\n",
       "       1914, 1915, 1920, 1923, 1926, 1928, 1929, 1934, 1947, 1952])"
      ]
     },
     "execution_count": 158,
     "metadata": {},
     "output_type": "execute_result"
    }
   ],
   "source": [
    "indices_control[0]"
   ]
  },
  {
   "cell_type": "markdown",
   "metadata": {},
   "source": [
    "Finally, we plot the 2-D UMAP projection. "
   ]
  },
  {
   "cell_type": "code",
   "execution_count": 159,
   "metadata": {},
   "outputs": [
    {
     "data": {
      "image/png": "[encoded data removed]",
      "text/plain": [
       "<Figure size 576x432 with 1 Axes>"
      ]
     },
     "metadata": {
      "needs_background": "light"
     },
     "output_type": "display_data"
    }
   ],
   "source": [
    "fig, ax = plt.subplots(figsize=(8,6))\n",
    "ax.scatter(umap_dimX, umap_dimY, s=1, c='gray', label='APOGEE DR17 stars')\n",
    "ax.scatter(umap_dimX_control , umap_dimY_control, s=45, edgecolor='k', c='hotpink', label='M3 Control Group')\n",
    "ax.set_xlabel(\"UMAP X-Dimension\", fontsize=16)\n",
    "ax.set_ylabel(\"UMAP Y-Dimension\", fontsize=16)\n",
    "ax.tick_params(axis='both', which='major', labelsize=16)\n",
    "ax.tick_params(axis='both', which='minor', labelsize=16)\n",
    "ax.legend(fontsize=16)\n",
    "plt.show()"
   ]
  },
  {
   "cell_type": "markdown",
   "metadata": {},
   "source": [
    "#### ***CHECK-IN: You succesfully ran UMAP!*\n",
    "\n",
    "What does this specific UMAP projection actually tell you? How could you improve this UMAP run? Importantly, how could you extend this method to find extra-tidal candidates of M3?"
   ]
  },
  {
   "cell_type": "markdown",
   "metadata": {},
   "source": [
    "#### Improving the Dimensionality Reduction\n",
    "Fine tune the hyper-parameters:\n",
    "- understand how the different hyper-parameters affect the data\n",
    "- what combination of hyper-parameters achieve the best separation of the control group?\n",
    "\n",
    "Helpful documentation:\n",
    "\n",
    "https://umap-learn.readthedocs.io/en/latest/parameters.html\n",
    "\n",
    "Dimensional Reduction Astronomy Example:\n",
    "https://arxiv.org/pdf/2210.02471.pdf"
   ]
  },
  {
   "cell_type": "code",
   "execution_count": null,
   "metadata": {},
   "outputs": [],
   "source": []
  }
 ],
 "metadata": {
  "kernelspec": {
   "display_name": "Python 3",
   "language": "python",
   "name": "python3"
  },
  "language_info": {
   "codemirror_mode": {
    "name": "ipython",
    "version": 3
   },
   "file_extension": ".py",
   "mimetype": "text/x-python",
   "name": "python",
   "nbconvert_exporter": "python",
   "pygments_lexer": "ipython3",
   "version": "3.9.1"
  }
 },
 "nbformat": 4,
 "nbformat_minor": 4
}
