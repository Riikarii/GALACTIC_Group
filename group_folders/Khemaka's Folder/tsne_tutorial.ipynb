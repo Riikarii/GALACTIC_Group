{
 "cells": [
  {
   "cell_type": "markdown",
   "metadata": {},
   "source": [
    "## How to use the t-SNE algorithm on APOGEE globular cluster data. \n",
    "##### Steffani Grondin (September 23, 2022)"
   ]
  },
  {
   "cell_type": "markdown",
   "metadata": {},
   "source": [
    "#### STEP 0: Import the necessary packages/algorithms."
   ]
  },
  {
   "cell_type": "code",
   "execution_count": 1,
   "metadata": {},
   "outputs": [],
   "source": [
    "# General analysis/plotting packages:\n",
    "import matplotlib.pyplot as plt\n",
    "import numpy as np\n",
    "import math\n",
    "import pandas as pd\n",
    "import matplotlib.pyplot as plt\n",
    "from matplotlib import rc\n",
    "plt.rcParams['mathtext.fontset'] = 'stix'\n",
    "plt.rcParams['font.family'] = 'STIXGeneral'\n",
    "from collections import Counter\n",
    "\n",
    "# Specific t-SNE/visualization packages:\n",
    "from sklearn.manifold import TSNE\n",
    "from shapely.geometry import Point, Polygon"
   ]
  },
  {
   "cell_type": "markdown",
   "metadata": {},
   "source": [
    "#### STEP 1: Load in the M3 datafile. \n",
    "\n",
    "This example uses APOGEE DR17 data (https://www.sdss.org/dr17/) with astroNN chemical abundances (https://astronn.readthedocs.io/en/latest/) and includes all stars that are within a 10x10 degree field of view around M3's centre."
   ]
  },
  {
   "cell_type": "code",
   "execution_count": 2,
   "metadata": {},
   "outputs": [
    {
     "name": "stdout",
     "output_type": "stream",
     "text": [
      "There are 5289 stars in our initial sample\n"
     ]
    }
   ],
   "source": [
    "M3 = pd.read_csv('../data/M3data_10x10.csv', delimiter=',')\n",
    "\n",
    "# Spatial:\n",
    "ra = M3[\"ra\"]   #APOGEE\n",
    "dec = M3[\"dec\"]   #APOGEE\n",
    "\n",
    "# Identification:\n",
    "apogee_ID = M3[\"apogee_ID\"]   #APOGEE\n",
    "gaia_ID = M3[\"gaia_ID\"]  # Gaia\n",
    "\n",
    "# Kinematic:\n",
    "parallax = M3[\"parallax\"]  # Gaia\n",
    "pmra = M3[\"pmra\"]  # Gaia\n",
    "pmra_err = M3[\"pmra_err\"]  # Gaia\n",
    "pmdec = M3[\"pmdec\"]  # Gaia\n",
    "pmdec_err = M3[\"pmdec_err\"]  # Gaia\n",
    "RV = M3[\"RV\"]   #APOGEE\n",
    "RV_err = M3[\"RV_err\"]   #APOGEE\n",
    "dist = M3[\"dist\"]   #APOGEE\n",
    "dist_err = M3[\"dist_err\"]   #APOGEE\n",
    "jr = M3[\"jr\"]   #APOGEE\n",
    "jr_err = M3[\"jr_err\"]   #APOGEE\n",
    "jz = M3[\"jz\"]   #APOGEE\n",
    "jz_err = M3[\"jz_err\"]   #APOGEE\n",
    "jphi = M3[\"jphi\"]   #APOGEE\n",
    "jphi_err = M3[\"jphi_err\"]    #APOGEE\n",
    "\n",
    "# Spectral (useful for filtering):\n",
    "TEFF_ERR = M3[\"TEFF_err\"]   #APOGEE\n",
    "TEFF = M3[\"TEFF\"]   #APOGEE\n",
    "LOGG_ERR = M3[\"LOGG_err\"]   #APOGEE\n",
    "LOGG = M3[\"LOGG\"]   #APOGEE\n",
    "SNR = M3[\"SNR\"]   #APOGEE\n",
    "\n",
    "# Chemical abundances from astroNN:\n",
    "FE_H = M3['FEH'] \n",
    "C_FE = M3['CFE']\n",
    "CI_FE = M3['CIFE']\n",
    "N_FE = M3['NFE']\n",
    "O_FE = M3['OFE']\n",
    "MG_FE = M3['MGFE']\n",
    "AL_FE = M3['ALFE']\n",
    "SI_FE = M3['SIFE']\n",
    "P_FE = M3['PFE']\n",
    "S_FE = M3['SFE']\n",
    "K_FE = M3['KFE']\n",
    "CA_FE = M3['CAFE']\n",
    "TI_FE = M3['TIFE']\n",
    "TIII_FE = M3['TIIIFE']\n",
    "V_FE = M3['VFE']\n",
    "CR_FE = M3['CRFE']\n",
    "MN_FE = M3['MNFE']\n",
    "CO_FE = M3['COFE']\n",
    "NI_FE = M3['NIFE']\n",
    "\n",
    "# Chemical abundance errors from astroNN:\n",
    "FE_H_err = M3[\"FEH_err\"] \n",
    "C_FE_err = M3['CFE_err']\n",
    "CI_FE_err = M3['CIFE_err']\n",
    "N_FE_err = M3['NFE_err']\n",
    "O_FE_err = M3['OFE_err']\n",
    "MG_FE_err = M3['MGFE_err']\n",
    "AL_FE_err = M3['ALFE_err']\n",
    "SI_FE_err = M3['SIFE_err']\n",
    "P_FE_err = M3['PFE_err']\n",
    "S_FE_err = M3['SFE_err']\n",
    "K_FE_err = M3['KFE_err']\n",
    "CA_FE_err = M3['CAFE_err']\n",
    "TI_FE_err = M3['TIFE_err']\n",
    "TIII_FE_err = M3['TIIIFE_err']\n",
    "V_FE_err = M3['VFE_err']\n",
    "CR_FE_err = M3['CRFE_err']\n",
    "MN_FE_err = M3['MNFE_err']\n",
    "CO_FE_err = M3['COFE_err']\n",
    "NI_FE_err = M3['NIFE_err']\n",
    "\n",
    "# Number of stars in the initial sample of APOGEE DR16: \n",
    "print(\"There are {} stars in our initial sample\".format(len(ra)))\n",
    "\n",
    "cols = [ra, dec, apogee_ID, gaia_ID, parallax, pmra, pmra_err, pmdec, pmdec_err, RV, RV_err, dist, dist_err,\n",
    "        jr, jr_err, jphi, jphi_err, jz, jz_err, TEFF, TEFF_ERR, LOGG, LOGG_ERR, SNR, FE_H, FE_H_err, C_FE, \n",
    "        C_FE_err, CI_FE, CI_FE_err, N_FE, N_FE_err, O_FE, O_FE_err, MG_FE, MG_FE_err, AL_FE, AL_FE_err, SI_FE,\n",
    "        SI_FE_err, P_FE, P_FE_err, S_FE, S_FE_err, K_FE, K_FE_err, CA_FE, CA_FE_err, TI_FE, TI_FE_err, TIII_FE,\n",
    "        TIII_FE_err, V_FE, V_FE_err, CR_FE, CR_FE_err, MN_FE, MN_FE_err, CO_FE, CO_FE_err, NI_FE, NI_FE_err]"
   ]
  },
  {
   "cell_type": "markdown",
   "metadata": {},
   "source": [
    "#### STEP 2: Filter the data. \n",
    "\n",
    "First, we remove all stars without proper motions and chemical abundances for all 19 elements. Next, for stars with multiple spectra, we select the one with the highest SNR to represent the source. Finally, we remove all stars with low signal-to-noise (SNR) ratios. "
   ]
  },
  {
   "cell_type": "code",
   "execution_count": 3,
   "metadata": {},
   "outputs": [
    {
     "name": "stdout",
     "output_type": "stream",
     "text": [
      "There are 5240 stars in our sample after the proper motion filtering.\n",
      "There are 5053 stars in our sample after the abundance filtering.\n",
      "There are 3309 stars in our sample after removing sources with duplicate spectra.\n",
      "There are 3212 stars in our sample after removing sources with low SNR.\n"
     ]
    },
    {
     "name": "stderr",
     "output_type": "stream",
     "text": [
      "<ipython-input-3-f26a94608c31>:11: RuntimeWarning: invalid value encountered in greater\n",
      "  abundance_filter = np.where((data_pmfilter[24] > -9999) & (data_pmfilter[26] > -9999) & (data_pmfilter[28]  > -9999)\n",
      "<ipython-input-3-f26a94608c31>:12: RuntimeWarning: invalid value encountered in greater\n",
      "  & (data_pmfilter[30]  > -9999) & (data_pmfilter[32]  > -9999) & (data_pmfilter[34]  > -9999)\n",
      "<ipython-input-3-f26a94608c31>:13: RuntimeWarning: invalid value encountered in greater\n",
      "  & (data_pmfilter[36]  > -9999) & (data_pmfilter[38]  > -9999) & (data_pmfilter[40]  > -9999)\n",
      "<ipython-input-3-f26a94608c31>:14: RuntimeWarning: invalid value encountered in greater\n",
      "  & (data_pmfilter[42]  > -9999) & (data_pmfilter[44]  > -9999) & (data_pmfilter[46]  > -9999)\n",
      "<ipython-input-3-f26a94608c31>:15: RuntimeWarning: invalid value encountered in greater\n",
      "  & (data_pmfilter[48]  > -9999) & (data_pmfilter[50]  > -9999) & (data_pmfilter[52]  > -9999)\n",
      "<ipython-input-3-f26a94608c31>:16: RuntimeWarning: invalid value encountered in greater\n",
      "  & (data_pmfilter[54]  > -9999) & (data_pmfilter[56]  > -9999) & (data_pmfilter[58]  > -9999)\n",
      "<ipython-input-3-f26a94608c31>:17: RuntimeWarning: invalid value encountered in greater\n",
      "  & (data_pmfilter[60]  > -9999))\n"
     ]
    }
   ],
   "source": [
    "### Filter 1: Remove stars that do not have proper motion values. ###\n",
    "pm_filter_nan = np.isnan(pmra)\n",
    "pm_filter = np.where(pm_filter_nan==False)\n",
    "data_pmfilter = []\n",
    "for i in cols:\n",
    "    x = np.array(i)[pm_filter]\n",
    "    data_pmfilter.append(x)\n",
    "print(\"There are {} stars in our sample after the proper motion filtering.\".format(len(data_pmfilter[0])))\n",
    "\n",
    "### Filter 2: Remove stars that do not have data for all 19 abundances. ###\n",
    "abundance_filter = np.where((data_pmfilter[24] > -9999) & (data_pmfilter[26] > -9999) & (data_pmfilter[28]  > -9999)\n",
    "                            & (data_pmfilter[30]  > -9999) & (data_pmfilter[32]  > -9999) & (data_pmfilter[34]  > -9999)\n",
    "                            & (data_pmfilter[36]  > -9999) & (data_pmfilter[38]  > -9999) & (data_pmfilter[40]  > -9999)\n",
    "                            & (data_pmfilter[42]  > -9999) & (data_pmfilter[44]  > -9999) & (data_pmfilter[46]  > -9999)\n",
    "                            & (data_pmfilter[48]  > -9999) & (data_pmfilter[50]  > -9999) & (data_pmfilter[52]  > -9999)\n",
    "                            & (data_pmfilter[54]  > -9999) & (data_pmfilter[56]  > -9999) & (data_pmfilter[58]  > -9999)\n",
    "                            & (data_pmfilter[60]  > -9999))\n",
    "\n",
    "data_abundancefilter = []\n",
    "for i in data_pmfilter:\n",
    "    y = np.array(i)[abundance_filter]\n",
    "    data_abundancefilter.append(y)\n",
    "print(\"There are {} stars in our sample after the abundance filtering.\".format(len(data_abundancefilter[0])))\n",
    "\n",
    "### Filter 3: Remove all duplicate spectra (i.e. select spectra with highest SNR for multiple measurements). ###\n",
    "d =  Counter(data_abundancefilter[0])\n",
    "duplicates = [k for k, v in d.items() if v > 1]\n",
    "a_list = np.array(range(0, len(duplicates)))\n",
    "max_SNR_array = []\n",
    "\n",
    "for i in a_list:\n",
    "    indices = np.where(data_abundancefilter[0] == duplicates[i])\n",
    "    snr_val = data_abundancefilter[23][indices]\n",
    "    maximum = max(snr_val)\n",
    "    index_maximum = np.where((data_abundancefilter[0] == duplicates[i]) & (data_abundancefilter[23] == maximum))\n",
    "    index_maximum = int(index_maximum[0])\n",
    "    max_SNR_array.append(index_maximum)\n",
    "\n",
    "idx_sort = np.argsort(data_abundancefilter[0])\n",
    "sorted_ra_array = data_abundancefilter[0][idx_sort]\n",
    "vals, idx_start, count = np.unique(sorted_ra_array, return_counts=True, return_index=True)\n",
    "res = np.split(idx_sort, idx_start[1:])\n",
    "vals = vals[count == 1]\n",
    "listtest =  np.array(range(0, len(vals)))\n",
    "\n",
    "unique_array = []\n",
    "for i in listtest:\n",
    "    unique_val = np.where(vals[i] == data_abundancefilter[0])\n",
    "    unique_val = int(unique_val[0])\n",
    "    unique_array.append(unique_val)\n",
    "    \n",
    "#print(\"There are {} stars that do not have duplicate spectra.\".format(len(unique_array)))\n",
    "#print(\"There are {} stars that have multiple spectra, in which we select highest SNR.\".format(len(max_SNR_array)))\n",
    "\n",
    "duplicates_filter = np.concatenate((unique_array, max_SNR_array))\n",
    "sortedarray = np.sort(duplicates_filter)\n",
    "\n",
    "data_duplicatesfilter = []\n",
    "for i in data_abundancefilter:\n",
    "    z = np.array(i)[duplicates_filter]\n",
    "    data_duplicatesfilter.append(z)\n",
    "\n",
    "print(\"There are {} stars in our sample after removing sources with duplicate spectra.\".format(len(data_duplicatesfilter[0])))\n",
    "\n",
    "### Filter 4: Remove all stars with low SNR. ###\n",
    "SNR_filter = np.where(data_duplicatesfilter[23] > 50)\n",
    "data_snrfilter = []\n",
    "for i in data_duplicatesfilter:\n",
    "    a = np.array(i)[SNR_filter]\n",
    "    data_snrfilter.append(a)\n",
    "\n",
    "print(\"There are {} stars in our sample after removing sources with low SNR.\".format(len(data_snrfilter[0])))"
   ]
  },
  {
   "cell_type": "markdown",
   "metadata": {},
   "source": [
    "#### ***CHECK-IN: Now that your data has been reduced, do some exploratory data analysis to see what the sample looks like!*\n",
    "\n",
    "What parameters are in this file? What parameters might be useful to connect extra-tidal stars with a suspected birth cluster?"
   ]
  },
  {
   "cell_type": "markdown",
   "metadata": {},
   "source": [
    "#### STEP 3: Define parameters for your GC of interest. \n",
    "\n",
    "These parameters are taken from the Baumgardt & Hilker (2018) catalogue: https://people.smp.uq.edu.au/HolgerBaumgardt/globular/."
   ]
  },
  {
   "cell_type": "code",
   "execution_count": 4,
   "metadata": {},
   "outputs": [],
   "source": [
    "ra_M3 = 205.548  # [deg]\n",
    "dec_M3 = 28.3772  # [deg]\n",
    "dist_M3 = 10180  # [pc]\n",
    "rt_M3 = 159.0339  # [pc] -- tidal radius @ apogalacticon\n",
    "rhm_M3 = 6.34  # [pc]\n",
    "rhm_M3_deg = math.degrees(math.atan(rhm_M3 / dist_M3))  # deg\n",
    "pmra_M3 = -0.152  # [mas/yr]\n",
    "pmdec_M3 = -2.670  # [mas/yr]"
   ]
  },
  {
   "cell_type": "markdown",
   "metadata": {},
   "source": [
    "#### STEP 4: Define a control group of cluster members.\n",
    "\n",
    "We must define a control group of likely cluster members of M3 so we can see where these stars end up in the t-SNE projection. "
   ]
  },
  {
   "cell_type": "code",
   "execution_count": 5,
   "metadata": {},
   "outputs": [
    {
     "name": "stdout",
     "output_type": "stream",
     "text": [
      "There are 133 stars in our M3 control group.\n"
     ]
    }
   ],
   "source": [
    "# Select all the stars within some radius of the cluster:\n",
    "def in_circle(center_x, center_y, radius, x, y):\n",
    "    square_dist = (center_x - x) ** 2 + (center_y - y) ** 2\n",
    "    return square_dist <= (radius) ** 2\n",
    "\n",
    "ra_filtered = data_snrfilter[0]\n",
    "dec_filtered = data_snrfilter[1]\n",
    "\n",
    "# Select stars within 8 * r,hm (useful for large enough sample of probable cluster members):\n",
    "in_halfmass = in_circle(ra_M3, dec_M3, 8*rhm_M3_deg, ra_filtered, dec_filtered)\n",
    "indices_control = np.where(in_halfmass==True)\n",
    "\n",
    "controlgroup = []\n",
    "for i in data_snrfilter:\n",
    "    b = np.array(i)[indices_control]\n",
    "    controlgroup.append(b)\n",
    "\n",
    "# Example control group parameters: \n",
    "ra_control = controlgroup[0]\n",
    "dec_control = controlgroup[1]\n",
    "\n",
    "print(\"There are {} stars in our M3 control group.\".format(len(ra_control)))"
   ]
  },
  {
   "cell_type": "markdown",
   "metadata": {},
   "source": [
    "#### ***CHECK-IN: Add this control group to your above exploratory plots.* \n",
    "\n",
    "What do you notice about these stars? What changes if you adjust the control group radius (i.e. what if you go larger or smaller than 8*r,hm)?\n"
   ]
  },
  {
   "cell_type": "markdown",
   "metadata": {},
   "source": [
    "#### STEP 5: Run t-SNE on the control group and full filtered sample of APOGEE DR17 stars.\n",
    "\n",
    "First, we standardize the data to ensure that no elements dominate or skew the t-SNE run. We want to include 19 chemical abundances and radial velocities in our run.  "
   ]
  },
  {
   "cell_type": "code",
   "execution_count": 6,
   "metadata": {},
   "outputs": [],
   "source": [
    "FE_H_filtered, C_FE_filtered, CI_FE_filtered = data_snrfilter[24], data_snrfilter[26], data_snrfilter[28]\n",
    "N_FE_filtered, O_FE_filtered, MG_FE_filtered = data_snrfilter[30], data_snrfilter[32], data_snrfilter[34]\n",
    "AL_FE_filtered, SI_FE_filtered, P_FE_filtered = data_snrfilter[36], data_snrfilter[38], data_snrfilter[40]\n",
    "S_FE_filtered, K_FE_filtered, CA_FE_filtered = data_snrfilter[42], data_snrfilter[44], data_snrfilter[46]\n",
    "TI_FE_filtered, TIII_FE_filtered, V_FE_filtered = data_snrfilter[48], data_snrfilter[50], data_snrfilter[52]\n",
    "CR_FE_filtered, MN_FE_filtered, CO_FE_filtered, NI_FE_filtered = data_snrfilter[54], data_snrfilter[56], data_snrfilter[58], data_snrfilter[60]\n",
    "RV_filtered  = data_snrfilter[9]\n",
    "\n",
    "pretsne_array = np.array([FE_H_filtered, C_FE_filtered, CI_FE_filtered, N_FE_filtered, O_FE_filtered, MG_FE_filtered,\n",
    "                      AL_FE_filtered, SI_FE_filtered, P_FE_filtered, S_FE_filtered, K_FE_filtered, CA_FE_filtered, \n",
    "                      TI_FE_filtered, TIII_FE_filtered, V_FE_filtered, CR_FE_filtered, MN_FE_filtered, CO_FE_filtered,\n",
    "                       NI_FE_filtered, RV_filtered])\n",
    "\n",
    "standardized_array = []\n",
    "for i in pretsne_array:\n",
    "    mean, sigma = np.mean(i), np.std(i)\n",
    "    norm = (i - mean) / sigma\n",
    "    standardized_array.append(norm)"
   ]
  },
  {
   "cell_type": "markdown",
   "metadata": {},
   "source": [
    "Next, we apply the t-SNE algorithm via scikit-learn to reduce the dimensionality of the data from 20-D to 2-D."
   ]
  },
  {
   "cell_type": "code",
   "execution_count": 7,
   "metadata": {},
   "outputs": [],
   "source": [
    "# Transpose the standardized + filtered array:\n",
    "standardized_array_transpose = np.transpose(standardized_array)\n",
    "\n",
    "# Run t-SNE on the transposed array:\n",
    "tsne_init = TSNE(n_components=2)\n",
    "tsne_2d = tsne_init.fit_transform(standardized_array_transpose)\n",
    "\n",
    "# Get t-SNE outputs for complete filtered dataset:\n",
    "t_SNE_dimX = tsne_2d[:, 0]\n",
    "t_SNE_dimY = tsne_2d[:, 1]\n",
    "\n",
    "# Get t-SNE outputs for control group:\n",
    "tsne_dimX_control = t_SNE_dimX[indices_control]\n",
    "tsne_dimY_control = t_SNE_dimY[indices_control]"
   ]
  },
  {
   "cell_type": "markdown",
   "metadata": {},
   "source": [
    "Finally, we plot the 2-D t-SNE projection. "
   ]
  },
  {
   "cell_type": "code",
   "execution_count": 8,
   "metadata": {},
   "outputs": [
    {
     "data": {
      "image/png": "[encoded data removed]",
      "text/plain": [
       "<Figure size 576x432 with 1 Axes>"
      ]
     },
     "metadata": {
      "needs_background": "light"
     },
     "output_type": "display_data"
    }
   ],
   "source": [
    "fig, ax = plt.subplots(figsize=(8,6))\n",
    "ax.scatter(t_SNE_dimX, t_SNE_dimY, s=1, c='gray', label='APOGEE DR17 stars')\n",
    "ax.scatter(tsne_dimX_control , tsne_dimY_control, s=45, edgecolor='k', c='hotpink', label='M3 Control Group')\n",
    "ax.set_xlabel(\"t-SNE X-Dimension\", fontsize=16)\n",
    "ax.set_ylabel(\"t-SNE Y-Dimension\", fontsize=16)\n",
    "ax.tick_params(axis='both', which='major', labelsize=16)\n",
    "ax.tick_params(axis='both', which='minor', labelsize=16)\n",
    "ax.legend(fontsize=16, loc=1)\n",
    "plt.show()"
   ]
  },
  {
   "cell_type": "markdown",
   "metadata": {},
   "source": [
    "#### ***CHECK-IN: You succesfully ran t-SNE!*\n",
    "\n",
    "What does this specific t-SNE projection actually tell you? How could you improve this t-SNE run? Importantly, how could you extend this method to find extra-tidal candidates of M3?"
   ]
  },
  {
   "cell_type": "markdown",
   "metadata": {},
   "source": [
    "#### Improving the Dimensionality Reduction\n",
    "Fine tune the hyper-parameters:\n",
    "- understand how the different hyper-parameters affect the data\n",
    "- what combination of hyper-parameters achieve the best separation of the control group? to acheive the best \n",
    "\n",
    "Helpful Papers:\n",
    "\n",
    "https://distill.pub/2016/misread-tsne/ \n",
    "\n",
    "https://towardsdatascience.com/how-to-tune-hyperparameters-of-tsne-7c0596a18868 \n",
    "\n",
    "Dimensional Reduction Astronomy Example:\n",
    "https://arxiv.org/pdf/2210.02471.pdf\n"
   ]
  },
  {
   "cell_type": "code",
   "execution_count": null,
   "metadata": {},
   "outputs": [],
   "source": []
  }
 ],
 "metadata": {
  "kernelspec": {
   "display_name": "Python 3",
   "language": "python",
   "name": "python3"
  },
  "language_info": {
   "codemirror_mode": {
    "name": "ipython",
    "version": 3
   },
   "file_extension": ".py",
   "mimetype": "text/x-python",
   "name": "python",
   "nbconvert_exporter": "python",
   "pygments_lexer": "ipython3",
   "version": "3.9.1"
  }
 },
 "nbformat": 4,
 "nbformat_minor": 4
}
